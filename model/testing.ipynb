{
 "cells": [
  {
   "cell_type": "code",
   "execution_count": 1,
   "metadata": {},
   "outputs": [],
   "source": [
    "from optimization_model import OptimizationModel\n",
    "import pandas as pd"
   ]
  },
  {
   "cell_type": "code",
   "execution_count": 2,
   "metadata": {},
   "outputs": [],
   "source": [
    "df = pd.read_csv('../data/consumo_material_preprocessed.csv')"
   ]
  },
  {
   "cell_type": "code",
   "execution_count": 3,
   "metadata": {},
   "outputs": [],
   "source": [
    "df = df[df['FECHAPEDIDO'].str.contains('2023')]\n",
    "df = df.reset_index(drop=True)\n",
    "\n",
    "CODIGO_PROD = 65056\n",
    "data = df[df['CODIGO_NUM'] == CODIGO_PROD]\n",
    "data.reset_index(drop=True, inplace=True)"
   ]
  },
  {
   "cell_type": "code",
   "execution_count": 4,
   "metadata": {},
   "outputs": [
    {
     "name": "stdout",
     "output_type": "stream",
     "text": [
      "ERROR: Rule failed when generating expression for Constraint\n",
      "nonegative_inventory_constraint with index 1: ValueError: Invalid constraint\n",
      "expression. The constraint expression resolved to a trivial Boolean (True)\n",
      "instead of a Pyomo object. Please modify your rule to return\n",
      "Constraint.Feasible instead of True.\n",
      "\n",
      "    Error thrown for Constraint 'nonegative_inventory_constraint[1]'\n",
      "ERROR: Constructing component 'nonegative_inventory_constraint' from data=None\n",
      "failed: ValueError: Invalid constraint expression. The constraint expression\n",
      "resolved to a trivial Boolean (True) instead of a Pyomo object. Please modify\n",
      "your rule to return Constraint.Feasible instead of True.\n",
      "\n",
      "    Error thrown for Constraint 'nonegative_inventory_constraint[1]'\n"
     ]
    },
    {
     "ename": "ValueError",
     "evalue": "Invalid constraint expression. The constraint expression resolved to a trivial Boolean (True) instead of a Pyomo object. Please modify your rule to return Constraint.Feasible instead of True.\n\nError thrown for Constraint 'nonegative_inventory_constraint[1]'",
     "output_type": "error",
     "traceback": [
      "\u001b[1;31m---------------------------------------------------------------------------\u001b[0m",
      "\u001b[1;31mValueError\u001b[0m                                Traceback (most recent call last)",
      "\u001b[1;32mc:\\Users\\joels\\Desktop\\Uni\\datathon 2023\\JNA-Datathon2023\\model\\testing.ipynb Cell 4\u001b[0m line \u001b[0;36m1\n\u001b[1;32m----> <a href='vscode-notebook-cell:/c%3A/Users/joels/Desktop/Uni/datathon%202023/JNA-Datathon2023/model/testing.ipynb#W3sZmlsZQ%3D%3D?line=0'>1</a>\u001b[0m model \u001b[39m=\u001b[39m OptimizationModel(data, \u001b[39m0\u001b[39;49m, \u001b[39m5\u001b[39;49m, \u001b[39m1e5\u001b[39;49m, \u001b[39m5\u001b[39;49m)\n",
      "File \u001b[1;32mc:\\Users\\joels\\Desktop\\Uni\\datathon 2023\\JNA-Datathon2023\\model\\optimization_model.py:13\u001b[0m, in \u001b[0;36mOptimizationModel.__init__\u001b[1;34m(self, data, beta, Pmax, Cmax, C, gamma, *args, **kwargs)\u001b[0m\n\u001b[0;32m     11\u001b[0m \u001b[39mself\u001b[39m\u001b[39m.\u001b[39mgamma \u001b[39m=\u001b[39m gamma\n\u001b[0;32m     12\u001b[0m \u001b[39mself\u001b[39m\u001b[39m.\u001b[39mC \u001b[39m=\u001b[39m C\n\u001b[1;32m---> 13\u001b[0m \u001b[39mself\u001b[39;49m\u001b[39m.\u001b[39;49mbuild_model()\n",
      "File \u001b[1;32mc:\\Users\\joels\\Desktop\\Uni\\datathon 2023\\JNA-Datathon2023\\model\\optimization_model.py:19\u001b[0m, in \u001b[0;36mOptimizationModel.build_model\u001b[1;34m(self)\u001b[0m\n\u001b[0;32m     17\u001b[0m \u001b[39mself\u001b[39m\u001b[39m.\u001b[39mset_parameters()\n\u001b[0;32m     18\u001b[0m \u001b[39mself\u001b[39m\u001b[39m.\u001b[39mset_variables()\n\u001b[1;32m---> 19\u001b[0m \u001b[39mself\u001b[39;49m\u001b[39m.\u001b[39;49mset_constraints()\n\u001b[0;32m     20\u001b[0m \u001b[39mself\u001b[39m\u001b[39m.\u001b[39mset_objective()\n",
      "File \u001b[1;32mc:\\Users\\joels\\Desktop\\Uni\\datathon 2023\\JNA-Datathon2023\\model\\optimization_model.py:34\u001b[0m, in \u001b[0;36mOptimizationModel.set_constraints\u001b[1;34m(self)\u001b[0m\n\u001b[0;32m     33\u001b[0m \u001b[39mdef\u001b[39;00m \u001b[39mset_constraints\u001b[39m(\u001b[39mself\u001b[39m):\n\u001b[1;32m---> 34\u001b[0m     \u001b[39mself\u001b[39;49m\u001b[39m.\u001b[39;49mset_inventory_constraint()\n\u001b[0;32m     35\u001b[0m     \u001b[39mself\u001b[39m\u001b[39m.\u001b[39mset_order_constraint()\n",
      "File \u001b[1;32mc:\\Users\\joels\\Desktop\\Uni\\datathon 2023\\JNA-Datathon2023\\model\\optimization_model.py:38\u001b[0m, in \u001b[0;36mOptimizationModel.set_inventory_constraint\u001b[1;34m(self)\u001b[0m\n\u001b[0;32m     37\u001b[0m \u001b[39mdef\u001b[39;00m \u001b[39mset_inventory_constraint\u001b[39m(\u001b[39mself\u001b[39m):\n\u001b[1;32m---> 38\u001b[0m     \u001b[39mself\u001b[39;49m\u001b[39m.\u001b[39;49mset_nonegative_inventory_constraint()\n\u001b[0;32m     39\u001b[0m     \u001b[39mself\u001b[39m\u001b[39m.\u001b[39mset_max_inventory_constraint()\n\u001b[0;32m     40\u001b[0m     \u001b[39mself\u001b[39m\u001b[39m.\u001b[39mset_sufficient_inventory_constraint()\n",
      "File \u001b[1;32mc:\\Users\\joels\\Desktop\\Uni\\datathon 2023\\JNA-Datathon2023\\model\\optimization_model.py:50\u001b[0m, in \u001b[0;36mOptimizationModel.set_nonegative_inventory_constraint\u001b[1;34m(self)\u001b[0m\n\u001b[0;32m     48\u001b[0m         \u001b[39mreturn\u001b[39;00m pyo\u001b[39m.\u001b[39mConstraint\u001b[39m.\u001b[39mSkip\n\u001b[0;32m     49\u001b[0m     \u001b[39mreturn\u001b[39;00m model\u001b[39m.\u001b[39minventory(t) \u001b[39m>\u001b[39m\u001b[39m=\u001b[39m \u001b[39m0\u001b[39m\n\u001b[1;32m---> 50\u001b[0m \u001b[39mself\u001b[39;49m\u001b[39m.\u001b[39;49mnonegative_inventory_constraint \u001b[39m=\u001b[39m pyo\u001b[39m.\u001b[39mConstraint(\u001b[39mself\u001b[39m\u001b[39m.\u001b[39mT, rule\u001b[39m=\u001b[39mrule, doc\u001b[39m=\u001b[39m\u001b[39m'\u001b[39m\u001b[39mNon-negative inventory constraint\u001b[39m\u001b[39m'\u001b[39m)\n",
      "File \u001b[1;32mc:\\Users\\joels\\AppData\\Local\\Programs\\Python\\Python310\\lib\\site-packages\\pyomo\\core\\base\\block.py:580\u001b[0m, in \u001b[0;36m_BlockData.__setattr__\u001b[1;34m(self, name, val)\u001b[0m\n\u001b[0;32m    575\u001b[0m \u001b[39mif\u001b[39;00m name \u001b[39mnot\u001b[39;00m \u001b[39min\u001b[39;00m \u001b[39mself\u001b[39m\u001b[39m.\u001b[39m\u001b[39m__dict__\u001b[39m:\n\u001b[0;32m    576\u001b[0m     \u001b[39mif\u001b[39;00m \u001b[39misinstance\u001b[39m(val, Component):\n\u001b[0;32m    577\u001b[0m         \u001b[39m#\u001b[39;00m\n\u001b[0;32m    578\u001b[0m         \u001b[39m# Pyomo components are added with the add_component method.\u001b[39;00m\n\u001b[0;32m    579\u001b[0m         \u001b[39m#\u001b[39;00m\n\u001b[1;32m--> 580\u001b[0m         \u001b[39mself\u001b[39;49m\u001b[39m.\u001b[39;49madd_component(name, val)\n\u001b[0;32m    581\u001b[0m     \u001b[39melse\u001b[39;00m:\n\u001b[0;32m    582\u001b[0m         \u001b[39m#\u001b[39;00m\n\u001b[0;32m    583\u001b[0m         \u001b[39m# Other Python objects are added with the standard __setattr__\u001b[39;00m\n\u001b[0;32m    584\u001b[0m         \u001b[39m# method.\u001b[39;00m\n\u001b[0;32m    585\u001b[0m         \u001b[39m#\u001b[39;00m\n\u001b[0;32m    586\u001b[0m         \u001b[39msuper\u001b[39m(_BlockData, \u001b[39mself\u001b[39m)\u001b[39m.\u001b[39m\u001b[39m__setattr__\u001b[39m(name, val)\n",
      "File \u001b[1;32mc:\\Users\\joels\\AppData\\Local\\Programs\\Python\\Python310\\lib\\site-packages\\pyomo\\core\\base\\block.py:1185\u001b[0m, in \u001b[0;36m_BlockData.add_component\u001b[1;34m(self, name, val)\u001b[0m\n\u001b[0;32m   1177\u001b[0m     logger\u001b[39m.\u001b[39mdebug(\n\u001b[0;32m   1178\u001b[0m         \u001b[39m\"\u001b[39m\u001b[39mConstructing \u001b[39m\u001b[39m%s\u001b[39;00m\u001b[39m \u001b[39m\u001b[39m'\u001b[39m\u001b[39m%s\u001b[39;00m\u001b[39m'\u001b[39m\u001b[39m on \u001b[39m\u001b[39m%s\u001b[39;00m\u001b[39m from data=\u001b[39m\u001b[39m%s\u001b[39;00m\u001b[39m\"\u001b[39m,\n\u001b[0;32m   1179\u001b[0m         val\u001b[39m.\u001b[39m\u001b[39m__class__\u001b[39m\u001b[39m.\u001b[39m\u001b[39m__name__\u001b[39m,\n\u001b[1;32m   (...)\u001b[0m\n\u001b[0;32m   1182\u001b[0m         \u001b[39mstr\u001b[39m(data),\n\u001b[0;32m   1183\u001b[0m     )\n\u001b[0;32m   1184\u001b[0m \u001b[39mtry\u001b[39;00m:\n\u001b[1;32m-> 1185\u001b[0m     val\u001b[39m.\u001b[39;49mconstruct(data)\n\u001b[0;32m   1186\u001b[0m \u001b[39mexcept\u001b[39;00m:\n\u001b[0;32m   1187\u001b[0m     err \u001b[39m=\u001b[39m sys\u001b[39m.\u001b[39mexc_info()[\u001b[39m1\u001b[39m]\n",
      "File \u001b[1;32mc:\\Users\\joels\\AppData\\Local\\Programs\\Python\\Python310\\lib\\site-packages\\pyomo\\core\\base\\constraint.py:806\u001b[0m, in \u001b[0;36mConstraint.construct\u001b[1;34m(self, data)\u001b[0m\n\u001b[0;32m    803\u001b[0m     \u001b[39melse\u001b[39;00m:\n\u001b[0;32m    804\u001b[0m         \u001b[39m# Bypass the index validation and create the member directly\u001b[39;00m\n\u001b[0;32m    805\u001b[0m         \u001b[39mfor\u001b[39;00m index \u001b[39min\u001b[39;00m \u001b[39mself\u001b[39m\u001b[39m.\u001b[39mindex_set():\n\u001b[1;32m--> 806\u001b[0m             \u001b[39mself\u001b[39;49m\u001b[39m.\u001b[39;49m_setitem_when_not_present(index, rule(block, index))\n\u001b[0;32m    807\u001b[0m \u001b[39mexcept\u001b[39;00m \u001b[39mException\u001b[39;00m:\n\u001b[0;32m    808\u001b[0m     err \u001b[39m=\u001b[39m sys\u001b[39m.\u001b[39mexc_info()[\u001b[39m1\u001b[39m]\n",
      "File \u001b[1;32mc:\\Users\\joels\\AppData\\Local\\Programs\\Python\\Python310\\lib\\site-packages\\pyomo\\core\\base\\indexed_component.py:1112\u001b[0m, in \u001b[0;36mIndexedComponent._setitem_when_not_present\u001b[1;34m(self, index, value)\u001b[0m\n\u001b[0;32m   1110\u001b[0m \u001b[39mtry\u001b[39;00m:\n\u001b[0;32m   1111\u001b[0m     \u001b[39mif\u001b[39;00m value \u001b[39mis\u001b[39;00m \u001b[39mnot\u001b[39;00m _NotSpecified:\n\u001b[1;32m-> 1112\u001b[0m         obj\u001b[39m.\u001b[39;49mset_value(value)\n\u001b[0;32m   1113\u001b[0m \u001b[39mexcept\u001b[39;00m:\n\u001b[0;32m   1114\u001b[0m     \u001b[39mself\u001b[39m\u001b[39m.\u001b[39m_data\u001b[39m.\u001b[39mpop(index, \u001b[39mNone\u001b[39;00m)\n",
      "File \u001b[1;32mc:\\Users\\joels\\AppData\\Local\\Programs\\Python\\Python310\\lib\\site-packages\\pyomo\\core\\base\\constraint.py:546\u001b[0m, in \u001b[0;36m_GeneralConstraintData.set_value\u001b[1;34m(self, expr)\u001b[0m\n\u001b[0;32m    543\u001b[0m     \u001b[39mraise\u001b[39;00m \u001b[39mValueError\u001b[39;00m(_rule_returned_none_error \u001b[39m%\u001b[39m (\u001b[39mself\u001b[39m\u001b[39m.\u001b[39mname,))\n\u001b[0;32m    545\u001b[0m \u001b[39melif\u001b[39;00m expr\u001b[39m.\u001b[39m\u001b[39m__class__\u001b[39m \u001b[39mis\u001b[39;00m \u001b[39mbool\u001b[39m:\n\u001b[1;32m--> 546\u001b[0m     \u001b[39mraise\u001b[39;00m \u001b[39mValueError\u001b[39;00m(\n\u001b[0;32m    547\u001b[0m         \u001b[39m\"\u001b[39m\u001b[39mInvalid constraint expression. The constraint \u001b[39m\u001b[39m\"\u001b[39m\n\u001b[0;32m    548\u001b[0m         \u001b[39m\"\u001b[39m\u001b[39mexpression resolved to a trivial Boolean (\u001b[39m\u001b[39m%s\u001b[39;00m\u001b[39m) \u001b[39m\u001b[39m\"\u001b[39m\n\u001b[0;32m    549\u001b[0m         \u001b[39m\"\u001b[39m\u001b[39minstead of a Pyomo object. Please modify your \u001b[39m\u001b[39m\"\u001b[39m\n\u001b[0;32m    550\u001b[0m         \u001b[39m\"\u001b[39m\u001b[39mrule to return Constraint.\u001b[39m\u001b[39m%s\u001b[39;00m\u001b[39m instead of \u001b[39m\u001b[39m%s\u001b[39;00m\u001b[39m.\u001b[39m\u001b[39m\"\u001b[39m\n\u001b[0;32m    551\u001b[0m         \u001b[39m\"\u001b[39m\u001b[39m\\n\u001b[39;00m\u001b[39m\\n\u001b[39;00m\u001b[39mError thrown for Constraint \u001b[39m\u001b[39m'\u001b[39m\u001b[39m%s\u001b[39;00m\u001b[39m'\u001b[39m\u001b[39m\"\u001b[39m\n\u001b[0;32m    552\u001b[0m         \u001b[39m%\u001b[39m (expr, \u001b[39m\"\u001b[39m\u001b[39mFeasible\u001b[39m\u001b[39m\"\u001b[39m \u001b[39mif\u001b[39;00m expr \u001b[39melse\u001b[39;00m \u001b[39m\"\u001b[39m\u001b[39mInfeasible\u001b[39m\u001b[39m\"\u001b[39m, expr, \u001b[39mself\u001b[39m\u001b[39m.\u001b[39mname)\n\u001b[0;32m    553\u001b[0m     )\n\u001b[0;32m    555\u001b[0m \u001b[39melse\u001b[39;00m:\n\u001b[0;32m    556\u001b[0m     \u001b[39mtry\u001b[39;00m:\n",
      "\u001b[1;31mValueError\u001b[0m: Invalid constraint expression. The constraint expression resolved to a trivial Boolean (True) instead of a Pyomo object. Please modify your rule to return Constraint.Feasible instead of True.\n\nError thrown for Constraint 'nonegative_inventory_constraint[1]'"
     ]
    }
   ],
   "source": [
    "model = OptimizationModel(data, 0, 5, 1e5, 5)"
   ]
  }
 ],
 "metadata": {
  "kernelspec": {
   "display_name": "Python 3",
   "language": "python",
   "name": "python3"
  },
  "language_info": {
   "codemirror_mode": {
    "name": "ipython",
    "version": 3
   },
   "file_extension": ".py",
   "mimetype": "text/x-python",
   "name": "python",
   "nbconvert_exporter": "python",
   "pygments_lexer": "ipython3",
   "version": "3.10.3"
  }
 },
 "nbformat": 4,
 "nbformat_minor": 2
}
