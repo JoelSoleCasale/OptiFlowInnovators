{
 "cells": [
  {
   "cell_type": "code",
   "execution_count": 1,
   "metadata": {},
   "outputs": [],
   "source": [
    "from optimization_model import OptimizationModel\n",
    "import pyomo.environ as pyo\n",
    "import pandas as pd"
   ]
  },
  {
   "cell_type": "code",
   "execution_count": 2,
   "metadata": {},
   "outputs": [],
   "source": [
    "df = pd.read_csv('../data/consumo_material_preprocessed.csv')"
   ]
  },
  {
   "cell_type": "code",
   "execution_count": 3,
   "metadata": {},
   "outputs": [],
   "source": [
    "df = df[df['FECHAPEDIDO'].str.contains('2023')]\n",
    "df = df.reset_index(drop=True)\n",
    "\n",
    "CODIGO_PROD = 65056\n",
    "data = df[df['CODIGO_NUM'] == CODIGO_PROD]\n",
    "data.reset_index(drop=True, inplace=True)"
   ]
  },
  {
   "cell_type": "code",
   "execution_count": 4,
   "metadata": {},
   "outputs": [],
   "source": [
    "model = OptimizationModel(data, 1, 5, 1e5, 5)\n",
    "# model.pprint()"
   ]
  },
  {
   "cell_type": "code",
   "execution_count": 5,
   "metadata": {},
   "outputs": [
    {
     "name": "stdout",
     "output_type": "stream",
     "text": [
      "feasible: True\n",
      "optimal values: [10.0, 10.0, 10.0, 10.0, 80.0, 0, 0, 0, 0, 0, 0, 0, 0]\n"
     ]
    }
   ],
   "source": [
    "solver_path = 'C:/Users/joels/Desktop/Uni/datathon 2023/winglpk-4.65/glpk-4.65/w64/glpsol.exe'\n",
    "opt = pyo.SolverFactory('glpk', executable=solver_path)\n",
    "results = opt.solve(model)\n",
    "print(f'feasible: {results.solver.termination_condition == pyo.TerminationCondition.optimal}')\n",
    "optimal_values = [pyo.value(model.p[i]) for i in model.p]\n",
    "print(f'optimal values: {optimal_values}')"
   ]
  },
  {
   "cell_type": "code",
   "execution_count": 6,
   "metadata": {},
   "outputs": [
    {
     "name": "stdout",
     "output_type": "stream",
     "text": [
      "924.0\n"
     ]
    }
   ],
   "source": [
    "import math\n",
    "# print 12 choose 6\n",
    "print(math.factorial(12)/(math.factorial(6)*math.factorial(12-6)))"
   ]
  }
 ],
 "metadata": {
  "kernelspec": {
   "display_name": "Python 3",
   "language": "python",
   "name": "python3"
  },
  "language_info": {
   "codemirror_mode": {
    "name": "ipython",
    "version": 3
   },
   "file_extension": ".py",
   "mimetype": "text/x-python",
   "name": "python",
   "nbconvert_exporter": "python",
   "pygments_lexer": "ipython3",
   "version": "3.10.3"
  }
 },
 "nbformat": 4,
 "nbformat_minor": 2
}
