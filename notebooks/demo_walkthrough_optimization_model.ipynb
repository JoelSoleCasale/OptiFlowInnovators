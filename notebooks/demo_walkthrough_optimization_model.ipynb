{
 "cells": [
  {
   "cell_type": "code",
   "execution_count": 1,
   "metadata": {},
   "outputs": [],
   "source": [
    "import sys\n",
    "import matplotlib.pyplot as plt\n",
    "sys.path.append('../')\n",
    "from model.optimization_model import OptimizationModel\n",
    "import pyomo.environ as pyo\n",
    "import pandas as pd"
   ]
  },
  {
   "cell_type": "code",
   "execution_count": 2,
   "metadata": {},
   "outputs": [],
   "source": [
    "df = pd.read_csv('../data/estimated_dataset_2023.csv')\n",
    "\n",
    "def filter_df_by_product(df, product_code):\n",
    "    return df[df['CODIGO_NUM'] == product_code].reset_index(drop=True)\n",
    "\n",
    "CODIGO_PROD = 70130\n",
    "data = filter_df_by_product(df, CODIGO_PROD)"
   ]
  },
  {
   "cell_type": "code",
   "execution_count": 3,
   "metadata": {},
   "outputs": [
    {
     "name": "stderr",
     "output_type": "stream",
     "text": [
      "100%|██████████| 495/495 [01:03<00:00,  7.74it/s]\n"
     ]
    },
    {
     "name": "stdout",
     "output_type": "stream",
     "text": [
      "Optimal values: [1458.0, 0, 0, 726.0, 0, 960.0, 0, 1476.0, 0, 0, 0, 0]\n",
      "Optimal cost: 1513.5000000000005\n"
     ]
    }
   ],
   "source": [
    "model = OptimizationModel(data, 1.2, 4, 10000, 0.1)\n",
    "\n",
    "solver_path = 'C:/Users/joels/Desktop/Uni/datathon 2023/winglpk-4.65/glpk-4.65/w64/glpsol.exe'\n",
    "best_model = model.solve(solver_path)\n",
    "\n",
    "if best_model is None:\n",
    "    print('No solution found')\n",
    "else:\n",
    "    optimal_values = [pyo.value(best_model.p[i]) for i in best_model.p]\n",
    "    print(f'Optimal values: {optimal_values}')\n",
    "    print(f'Optimal cost: {pyo.value(best_model.objective())}')"
   ]
  }
 ],
 "metadata": {
  "kernelspec": {
   "display_name": "Python 3",
   "language": "python",
   "name": "python3"
  },
  "language_info": {
   "codemirror_mode": {
    "name": "ipython",
    "version": 3
   },
   "file_extension": ".py",
   "mimetype": "text/x-python",
   "name": "python",
   "nbconvert_exporter": "python",
   "pygments_lexer": "ipython3",
   "version": "3.10.3"
  },
  "vscode": {
   "interpreter": {
    "hash": "aee8b7b246df8f9039afb4144a1f6fd8d2ca17a180786b69acc140d282b71a49"
   }
  }
 },
 "nbformat": 4,
 "nbformat_minor": 2
}
