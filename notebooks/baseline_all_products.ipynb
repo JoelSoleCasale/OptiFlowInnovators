{
 "cells": [
  {
   "cell_type": "code",
   "execution_count": 28,
   "metadata": {},
   "outputs": [],
   "source": [
    "import sys\n",
    "import warnings\n",
    "import re\n",
    "\n",
    "warnings.simplefilter(action=\"ignore\", category=FutureWarning)\n",
    "warnings.simplefilter(action=\"ignore\", category=RuntimeWarning)\n",
    "\n",
    "import pandas as pd\n",
    "import numpy as np\n",
    "import matplotlib.pyplot as plt\n",
    "import seaborn as sns\n",
    "\n",
    "from sklearn.model_selection import GroupKFold\n",
    "from sklearn.metrics import (\n",
    "    mean_absolute_percentage_error,\n",
    "    mean_squared_error,\n",
    "    d2_tweedie_score,\n",
    ")\n",
    "from xgboost import XGBRegressor\n",
    "from catboost import CatBoostRegressor\n",
    "from lightgbm import LGBMRegressor\n",
    "from sklearn.ensemble import RandomForestRegressor\n",
    "\n",
    "DATA_PATH = \"../data\""
   ]
  },
  {
   "cell_type": "code",
   "execution_count": 29,
   "metadata": {},
   "outputs": [],
   "source": [
    "# Load excel file\n",
    "df = pd.read_excel(DATA_PATH + \"/consumo_material_clean.xlsx\")"
   ]
  },
  {
   "cell_type": "markdown",
   "metadata": {},
   "source": [
    "## Preprocessing"
   ]
  },
  {
   "cell_type": "code",
   "execution_count": 30,
   "metadata": {},
   "outputs": [],
   "source": [
    "# Separate code into two columns\n",
    "new_columns = df[\"CODIGO\"].str.extract(r\"([a-zA-Z]+)([0-9]+)\", expand=False)\n",
    "df[\"CODIGO_CLASS\"] = new_columns[0]\n",
    "df[\"CODIGO_NUM\"] = new_columns[1]\n",
    "df.drop(columns=[\"CODIGO\"], inplace=True)"
   ]
  },
  {
   "cell_type": "code",
   "execution_count": 31,
   "metadata": {},
   "outputs": [
    {
     "name": "stderr",
     "output_type": "stream",
     "text": [
      "/var/folders/c6/kf2fcpcj6pq_gwpfbfzzy81m0000gn/T/ipykernel_27441/38037239.py:2: UserWarning: Could not infer format, so each element will be parsed individually, falling back to `dateutil`. To ensure parsing is consistent and as-expected, please specify a format.\n",
      "  df[\"FECHAPEDIDO\"] = pd.to_datetime(df[\"FECHAPEDIDO\"], dayfirst=True)\n"
     ]
    }
   ],
   "source": [
    "# FECHAPEDIDO to datetime in day/month/year format\n",
    "df[\"FECHAPEDIDO\"] = pd.to_datetime(df[\"FECHAPEDIDO\"], dayfirst=True)\n",
    "df.sort_values(by=[\"FECHAPEDIDO\"], inplace=True)\n",
    "df.reset_index(drop=True, inplace=True)"
   ]
  },
  {
   "cell_type": "code",
   "execution_count": 32,
   "metadata": {},
   "outputs": [],
   "source": [
    "# assert all rows in origen follow number-number-number format\n",
    "def fix_origen_typos(origen_string):\n",
    "    numbers = re.findall(r\"[0-9]+\", origen_string)\n",
    "    return \"-\".join(numbers)\n",
    "\n",
    "\n",
    "df[\"ORIGEN\"] = df[\"ORIGEN\"].apply(fix_origen_typos)"
   ]
  },
  {
   "cell_type": "code",
   "execution_count": 33,
   "metadata": {},
   "outputs": [],
   "source": [
    "# separate ORIGEN in three columns by '-'\n",
    "origin_separated_columns = df[\"ORIGEN\"].str.split(\"-\", expand=True)\n",
    "df[\"PURCHASING_REGION\"] = origin_separated_columns[0]\n",
    "df[\"PURCHASING_HOSPITAL\"] = origin_separated_columns[1]\n",
    "df[\"PURCHASING_DEPARTMENT\"] = origin_separated_columns[2]\n",
    "df.drop(columns=[\"ORIGEN\"], inplace=True)"
   ]
  },
  {
   "cell_type": "code",
   "execution_count": 34,
   "metadata": {},
   "outputs": [],
   "source": [
    "# drop duplicates\n",
    "df.drop_duplicates(inplace=True)"
   ]
  },
  {
   "cell_type": "code",
   "execution_count": 35,
   "metadata": {},
   "outputs": [],
   "source": [
    "# basic date features\n",
    "def generate_date_features(df):\n",
    "    df[\"YEAR\"] = df[\"FECHAPEDIDO\"].dt.year\n",
    "    df[\"MONTH\"] = np.sin(2 * np.pi * df[\"FECHAPEDIDO\"].dt.month / 12)\n",
    "    df[\"DAYOFMONTH\"] = np.sin(2 * np.pi * df[\"FECHAPEDIDO\"].dt.day / 31)\n",
    "    df[\"DAYOFYEAR\"] = np.sin(2 * np.pi * df[\"FECHAPEDIDO\"].dt.dayofyear / 365)\n",
    "    return df"
   ]
  },
  {
   "cell_type": "code",
   "execution_count": 36,
   "metadata": {},
   "outputs": [],
   "source": [
    "def add_timeseries_features(df):\n",
    "    df[\"ROLLING_MEAN_3M\"] = df[\"CANTIDADCOMPRA\"].rolling(90).mean()\n",
    "    df[\"WEIGHTED_MEAN_3M\"] = (\n",
    "        df[\"CANTIDADCOMPRA\"]\n",
    "        .rolling(90)\n",
    "        .apply(lambda x: np.average(x, weights=range(1, len(x) + 1)))\n",
    "    )\n",
    "    df[\"EWMA_3M\"] = df[\"CANTIDADCOMPRA\"].ewm(span=90).mean()\n",
    "    df[\"ROLLING_MEAN_1Y\"] = df[\"CANTIDADCOMPRA\"].rolling(365).mean()\n",
    "    df[\"WEIGHTED_MEAN_1Y\"] = (\n",
    "        df[\"CANTIDADCOMPRA\"]\n",
    "        .rolling(365)\n",
    "        .apply(lambda x: np.average(x, weights=range(1, len(x) + 1)))\n",
    "    )\n",
    "    df[\"EWMA_1Y\"] = df[\"CANTIDADCOMPRA\"].ewm(span=365).mean()\n",
    "    # average CANTIDADCOMPRAS over year\n",
    "    df[\"AVG_1Y\"] = df.groupby([\"YEAR\"])[\"CANTIDADCOMPRA\"].transform(\"mean\")\n",
    "    df[\"AVG_1Y\"] = df[\"AVG_1Y\"].fillna(df[\"AVG_1Y\"].mean())\n",
    "    return df"
   ]
  },
  {
   "cell_type": "code",
   "execution_count": 37,
   "metadata": {},
   "outputs": [],
   "source": [
    "# get pairings of product and hospital and create a dict \"product number\": list of hospitals\n",
    "pairings = df.groupby([\"CODIGO_NUM\", \"PURCHASING_HOSPITAL\"]).size().reset_index()\n",
    "pairings = pairings.groupby([\"PURCHASING_HOSPITAL\"])[\"CODIGO_NUM\"].apply(list)\n",
    "pairings = pairings.to_dict()"
   ]
  },
  {
   "cell_type": "code",
   "execution_count": 38,
   "metadata": {},
   "outputs": [],
   "source": [
    "def generate_train_test_df(full_df):\n",
    "    # Get train and test sets\n",
    "    train = full_df[full_df[\"YEAR\"] < 2023]\n",
    "    X_train = train.drop(columns=[\"CANTIDADCOMPRA\", \"FECHAPEDIDO\"])\n",
    "    y_train = train[\"CANTIDADCOMPRA\"]\n",
    "\n",
    "    test = full_df[full_df[\"YEAR\"] == 2023]\n",
    "    X_test = test.drop(columns=[\"CANTIDADCOMPRA\", \"FECHAPEDIDO\"])\n",
    "    y_test = test[\"CANTIDADCOMPRA\"]\n",
    "\n",
    "    return train, X_train, y_train, test, X_test, y_test"
   ]
  },
  {
   "cell_type": "code",
   "execution_count": 39,
   "metadata": {},
   "outputs": [],
   "source": [
    "def smape_score(A, F):\n",
    "    return 100 / len(A) * np.sum(2 * np.abs(F - A) / (np.abs(A) + np.abs(F)))"
   ]
  },
  {
   "cell_type": "code",
   "execution_count": 40,
   "metadata": {},
   "outputs": [],
   "source": [
    "def train_model_eval(X_train, y_train, X_test, y_test):\n",
    "    model = XGBRegressor(random_state=42)\n",
    "    model.fit(X_train, y_train)\n",
    "\n",
    "    y_test_pred = model.predict(X_test)\n",
    "    y_test_pred = y_test_pred\n",
    "\n",
    "    test_loss = mean_squared_error(y_test, y_test_pred, squared=False)\n",
    "    mape_error = mean_absolute_percentage_error(y_test, y_test_pred)\n",
    "    tweedie = d2_tweedie_score(y_test, y_test_pred)\n",
    "    smape_err = smape_score(y_test, y_test_pred)\n",
    "\n",
    "    return test_loss, mape_error, smape_err, tweedie"
   ]
  },
  {
   "cell_type": "code",
   "execution_count": 41,
   "metadata": {},
   "outputs": [],
   "source": [
    "def plot_model_predictions(full_df, product, hospital, plot_train=False):\n",
    "    columns = [\"FECHAPEDIDO\", \"CANTIDADCOMPRA\"]\n",
    "    partial_df = full_df.loc[\n",
    "        (full_df[\"PURCHASING_HOSPITAL\"] == hospital)\n",
    "        & (full_df[\"CODIGO_NUM\"] == product)\n",
    "    ][columns]\n",
    "    partial_df = generate_date_features(partial_df)\n",
    "    partial_df = add_timeseries_features(partial_df)\n",
    "    train, X_train, y_train, test, X_test, y_test = generate_train_test_df(partial_df)\n",
    "\n",
    "    model = XGBRegressor(random_state=42)\n",
    "    model.fit(X_train, y_train)\n",
    "\n",
    "    X_train[\"PREDICTION\"] = model.predict(X_train)\n",
    "    X_train[\"REAL\"] = y_train\n",
    "    X_train[\"FECHAPEDIDO\"] = train[\"FECHAPEDIDO\"]\n",
    "\n",
    "    X_test[\"PREDICTION\"] = model.predict(X_test)\n",
    "    X_test[\"REAL\"] = y_test\n",
    "    X_test[\"FECHAPEDIDO\"] = test[\"FECHAPEDIDO\"]\n",
    "\n",
    "    plt.figure(figsize=(30, 10))\n",
    "    if plot_train:\n",
    "        sns.lineplot(\n",
    "            x=\"FECHAPEDIDO\",\n",
    "            y=\"PREDICTION\",\n",
    "            data=X_train,\n",
    "            marker=\"o\",\n",
    "            label=\"train preds\",\n",
    "        )\n",
    "        sns.lineplot(\n",
    "            x=\"FECHAPEDIDO\", y=\"REAL\", data=X_train, marker=\"o\", label=\"train real\"\n",
    "        )\n",
    "\n",
    "    sns.lineplot(\n",
    "        x=\"FECHAPEDIDO\", y=\"PREDICTION\", data=X_test, marker=\"o\", label=\"test preds\"\n",
    "    )\n",
    "    sns.lineplot(x=\"FECHAPEDIDO\", y=\"REAL\", data=X_test, marker=\"o\", label=\"test real\")\n",
    "\n",
    "    plt.legend()\n",
    "    plt.show()"
   ]
  },
  {
   "cell_type": "code",
   "execution_count": 42,
   "metadata": {},
   "outputs": [
    {
     "name": "stdout",
     "output_type": "stream",
     "text": [
      "CPU times: user 5.43 s, sys: 5.43 s, total: 10.9 s\n",
      "Wall time: 8.48 s\n"
     ]
    }
   ],
   "source": [
    "%%time\n",
    "\n",
    "# iterate over each hospital and list of products\n",
    "columns = [\"FECHAPEDIDO\", \"CANTIDADCOMPRA\"]\n",
    "\n",
    "product_hospital_losses = pd.DataFrame(columns=[\"PRODUCT\", \"HOSPITAL\", \"Tweedie\", \"MSE\", \"SMAPE\"])\n",
    "for hospital, product_list in pairings.items():\n",
    "    for product in product_list:\n",
    "        partial_df = df.loc[\n",
    "            (df[\"PURCHASING_HOSPITAL\"] == hospital) & (df[\"CODIGO_NUM\"] == product)\n",
    "        ][columns]\n",
    "        partial_df = generate_date_features(partial_df)\n",
    "        partial_df = add_timeseries_features(partial_df)\n",
    "\n",
    "        is_2023_in_df = 2023 in partial_df[\"YEAR\"].unique()\n",
    "        is_only_1_year = partial_df[\"YEAR\"].nunique() == 1\n",
    "        has_few_samples = partial_df[partial_df[\"YEAR\"] == 2023].shape[0] < 5\n",
    "\n",
    "        if not is_2023_in_df or is_only_1_year or has_few_samples:\n",
    "            continue\n",
    "\n",
    "        train, X_train, y_train, test, X_test, y_test = generate_train_test_df(\n",
    "            partial_df\n",
    "        )\n",
    "        test_loss, mape_error, smape, tweedie = train_model_eval(X_train, y_train, X_test, y_test)\n",
    "\n",
    "        product_hospital_losses = pd.concat(\n",
    "            [\n",
    "                product_hospital_losses,\n",
    "                pd.DataFrame(\n",
    "                    [[product, hospital, tweedie, test_loss, smape]],\n",
    "                    columns=[\"PRODUCT\", \"HOSPITAL\", \"Tweedie\", \"MSE\", \"SMAPE\"],\n",
    "                ),\n",
    "            ]\n",
    "        )"
   ]
  },
  {
   "cell_type": "code",
   "execution_count": 56,
   "metadata": {},
   "outputs": [
    {
     "data": {
      "text/html": [
       "<div>\n",
       "<style scoped>\n",
       "    .dataframe tbody tr th:only-of-type {\n",
       "        vertical-align: middle;\n",
       "    }\n",
       "\n",
       "    .dataframe tbody tr th {\n",
       "        vertical-align: top;\n",
       "    }\n",
       "\n",
       "    .dataframe thead th {\n",
       "        text-align: right;\n",
       "    }\n",
       "</style>\n",
       "<table border=\"1\" class=\"dataframe\">\n",
       "  <thead>\n",
       "    <tr style=\"text-align: right;\">\n",
       "      <th></th>\n",
       "      <th>PRODUCT</th>\n",
       "      <th>HOSPITAL</th>\n",
       "      <th>Tweedie</th>\n",
       "      <th>MSE</th>\n",
       "      <th>SMAPE</th>\n",
       "    </tr>\n",
       "  </thead>\n",
       "  <tbody>\n",
       "    <tr>\n",
       "      <th>0</th>\n",
       "      <td>66071</td>\n",
       "      <td>7</td>\n",
       "      <td>-0.666667</td>\n",
       "      <td>2162.997939</td>\n",
       "      <td>72.380964</td>\n",
       "    </tr>\n",
       "    <tr>\n",
       "      <th>0</th>\n",
       "      <td>66071</td>\n",
       "      <td>13</td>\n",
       "      <td>-0.972549</td>\n",
       "      <td>1381.658753</td>\n",
       "      <td>69.268008</td>\n",
       "    </tr>\n",
       "    <tr>\n",
       "      <th>0</th>\n",
       "      <td>85758</td>\n",
       "      <td>10</td>\n",
       "      <td>-9.330963</td>\n",
       "      <td>424.117832</td>\n",
       "      <td>41.967628</td>\n",
       "    </tr>\n",
       "    <tr>\n",
       "      <th>0</th>\n",
       "      <td>64911</td>\n",
       "      <td>7</td>\n",
       "      <td>-0.250000</td>\n",
       "      <td>402.492263</td>\n",
       "      <td>24.000019</td>\n",
       "    </tr>\n",
       "    <tr>\n",
       "      <th>0</th>\n",
       "      <td>64764</td>\n",
       "      <td>0</td>\n",
       "      <td>-1.166614</td>\n",
       "      <td>376.817257</td>\n",
       "      <td>32.754517</td>\n",
       "    </tr>\n",
       "    <tr>\n",
       "      <th>0</th>\n",
       "      <td>64764</td>\n",
       "      <td>18</td>\n",
       "      <td>-0.365948</td>\n",
       "      <td>366.439863</td>\n",
       "      <td>10.167945</td>\n",
       "    </tr>\n",
       "    <tr>\n",
       "      <th>0</th>\n",
       "      <td>64751</td>\n",
       "      <td>0</td>\n",
       "      <td>-0.111203</td>\n",
       "      <td>348.622702</td>\n",
       "      <td>12.668822</td>\n",
       "    </tr>\n",
       "    <tr>\n",
       "      <th>0</th>\n",
       "      <td>64765</td>\n",
       "      <td>0</td>\n",
       "      <td>-1.365553</td>\n",
       "      <td>344.519910</td>\n",
       "      <td>34.058498</td>\n",
       "    </tr>\n",
       "    <tr>\n",
       "      <th>0</th>\n",
       "      <td>64764</td>\n",
       "      <td>10</td>\n",
       "      <td>-2.465778</td>\n",
       "      <td>329.302830</td>\n",
       "      <td>38.659885</td>\n",
       "    </tr>\n",
       "    <tr>\n",
       "      <th>0</th>\n",
       "      <td>64765</td>\n",
       "      <td>18</td>\n",
       "      <td>-0.266566</td>\n",
       "      <td>252.093634</td>\n",
       "      <td>10.737253</td>\n",
       "    </tr>\n",
       "    <tr>\n",
       "      <th>0</th>\n",
       "      <td>64663</td>\n",
       "      <td>13</td>\n",
       "      <td>-11.756655</td>\n",
       "      <td>214.298762</td>\n",
       "      <td>35.892156</td>\n",
       "    </tr>\n",
       "    <tr>\n",
       "      <th>0</th>\n",
       "      <td>73753</td>\n",
       "      <td>10</td>\n",
       "      <td>-228.834555</td>\n",
       "      <td>203.710348</td>\n",
       "      <td>33.726697</td>\n",
       "    </tr>\n",
       "    <tr>\n",
       "      <th>0</th>\n",
       "      <td>65056</td>\n",
       "      <td>13</td>\n",
       "      <td>-3.468980</td>\n",
       "      <td>169.965293</td>\n",
       "      <td>28.593626</td>\n",
       "    </tr>\n",
       "    <tr>\n",
       "      <th>0</th>\n",
       "      <td>64751</td>\n",
       "      <td>18</td>\n",
       "      <td>-1.570007</td>\n",
       "      <td>163.487213</td>\n",
       "      <td>9.374597</td>\n",
       "    </tr>\n",
       "    <tr>\n",
       "      <th>0</th>\n",
       "      <td>65056</td>\n",
       "      <td>0</td>\n",
       "      <td>-0.795825</td>\n",
       "      <td>161.762048</td>\n",
       "      <td>9.906280</td>\n",
       "    </tr>\n",
       "    <tr>\n",
       "      <th>0</th>\n",
       "      <td>64940</td>\n",
       "      <td>7</td>\n",
       "      <td>-inf</td>\n",
       "      <td>161.657582</td>\n",
       "      <td>16.666621</td>\n",
       "    </tr>\n",
       "    <tr>\n",
       "      <th>0</th>\n",
       "      <td>64932</td>\n",
       "      <td>7</td>\n",
       "      <td>-1.500000</td>\n",
       "      <td>154.919322</td>\n",
       "      <td>29.333334</td>\n",
       "    </tr>\n",
       "    <tr>\n",
       "      <th>0</th>\n",
       "      <td>64488</td>\n",
       "      <td>13</td>\n",
       "      <td>-3.084364</td>\n",
       "      <td>153.381673</td>\n",
       "      <td>69.892475</td>\n",
       "    </tr>\n",
       "    <tr>\n",
       "      <th>0</th>\n",
       "      <td>65056</td>\n",
       "      <td>10</td>\n",
       "      <td>-23.542847</td>\n",
       "      <td>153.256337</td>\n",
       "      <td>42.999492</td>\n",
       "    </tr>\n",
       "    <tr>\n",
       "      <th>0</th>\n",
       "      <td>64488</td>\n",
       "      <td>10</td>\n",
       "      <td>0.077130</td>\n",
       "      <td>140.860567</td>\n",
       "      <td>25.473784</td>\n",
       "    </tr>\n",
       "  </tbody>\n",
       "</table>\n",
       "</div>"
      ],
      "text/plain": [
       "  PRODUCT HOSPITAL     Tweedie          MSE      SMAPE\n",
       "0   66071        7   -0.666667  2162.997939  72.380964\n",
       "0   66071       13   -0.972549  1381.658753  69.268008\n",
       "0   85758       10   -9.330963   424.117832  41.967628\n",
       "0   64911        7   -0.250000   402.492263  24.000019\n",
       "0   64764        0   -1.166614   376.817257  32.754517\n",
       "0   64764       18   -0.365948   366.439863  10.167945\n",
       "0   64751        0   -0.111203   348.622702  12.668822\n",
       "0   64765        0   -1.365553   344.519910  34.058498\n",
       "0   64764       10   -2.465778   329.302830  38.659885\n",
       "0   64765       18   -0.266566   252.093634  10.737253\n",
       "0   64663       13  -11.756655   214.298762  35.892156\n",
       "0   73753       10 -228.834555   203.710348  33.726697\n",
       "0   65056       13   -3.468980   169.965293  28.593626\n",
       "0   64751       18   -1.570007   163.487213   9.374597\n",
       "0   65056        0   -0.795825   161.762048   9.906280\n",
       "0   64940        7        -inf   161.657582  16.666621\n",
       "0   64932        7   -1.500000   154.919322  29.333334\n",
       "0   64488       13   -3.084364   153.381673  69.892475\n",
       "0   65056       10  -23.542847   153.256337  42.999492\n",
       "0   64488       10    0.077130   140.860567  25.473784"
      ]
     },
     "execution_count": 56,
     "metadata": {},
     "output_type": "execute_result"
    }
   ],
   "source": [
    "product_hospital_losses.sort_values(by=[\"MSE\"], ascending=False).head(20)"
   ]
  },
  {
   "cell_type": "code",
   "execution_count": 48,
   "metadata": {},
   "outputs": [
    {
     "data": {
      "text/plain": [
       "PRODUCT\n",
       "66071    920.009225\n",
       "64764    357.519983\n",
       "64765    298.306772\n",
       "64751    256.054958\n",
       "64911    242.701280\n",
       "73753    203.710348\n",
       "85758    171.066012\n",
       "65056    130.131834\n",
       "64488    103.035913\n",
       "64663     99.655092\n",
       "64940     97.370373\n",
       "64932     95.249517\n",
       "64983     70.391758\n",
       "85769     68.321601\n",
       "65894     60.040401\n",
       "65509     59.770322\n",
       "65486     49.770596\n",
       "70130     47.364918\n",
       "99807     28.060142\n",
       "41691     27.142854\n",
       "Name: MSE, dtype: float64"
      ]
     },
     "execution_count": 48,
     "metadata": {},
     "output_type": "execute_result"
    }
   ],
   "source": [
    "product_hospital_losses.groupby([\"PRODUCT\"])[\"MSE\"].mean().sort_values(\n",
    "    ascending=False\n",
    ").head(20)"
   ]
  },
  {
   "cell_type": "code",
   "execution_count": 45,
   "metadata": {},
   "outputs": [
    {
     "data": {
      "text/plain": [
       "-6.788815851015224"
      ]
     },
     "execution_count": 45,
     "metadata": {},
     "output_type": "execute_result"
    }
   ],
   "source": [
    "product_hospital_losses[product_hospital_losses[\"Tweedie\"] != -np.inf][\"Tweedie\"].mean()"
   ]
  },
  {
   "cell_type": "code",
   "execution_count": 55,
   "metadata": {},
   "outputs": [
    {
     "data": {
      "text/plain": [
       "98.53393324552067"
      ]
     },
     "execution_count": 55,
     "metadata": {},
     "output_type": "execute_result"
    }
   ],
   "source": [
    "product_hospital_losses[\"MSE\"].mean()"
   ]
  },
  {
   "cell_type": "code",
   "execution_count": 58,
   "metadata": {},
   "outputs": [
    {
     "data": {
      "image/png": "[encoded data removed]",
      "text/plain": [
       "<Figure size 3000x1000 with 1 Axes>"
      ]
     },
     "metadata": {},
     "output_type": "display_data"
    }
   ],
   "source": [
    "plot_model_predictions(full_df=df, product=\"66071\", hospital=\"7\", plot_train=True)"
   ]
  },
  {
   "cell_type": "code",
   "execution_count": null,
   "metadata": {},
   "outputs": [],
   "source": []
  }
 ],
 "metadata": {
  "kernelspec": {
   "display_name": "mlcomp",
   "language": "python",
   "name": "python3"
  },
  "language_info": {
   "codemirror_mode": {
    "name": "ipython",
    "version": 3
   },
   "file_extension": ".py",
   "mimetype": "text/x-python",
   "name": "python",
   "nbconvert_exporter": "python",
   "pygments_lexer": "ipython3",
   "version": "3.10.12"
  }
 },
 "nbformat": 4,
 "nbformat_minor": 2
}
