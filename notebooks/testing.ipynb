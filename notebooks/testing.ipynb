{
 "cells": [
  {
   "cell_type": "code",
   "execution_count": 1,
   "metadata": {},
   "outputs": [],
   "source": [
    "import sys\n",
    "sys.path.append('../')\n",
    "from model.optimization_model import OptimizationModel\n",
    "import pyomo.environ as pyo\n",
    "import pandas as pd"
   ]
  },
  {
   "cell_type": "code",
   "execution_count": 2,
   "metadata": {},
   "outputs": [],
   "source": [
    "df = pd.read_csv('../data/consumo_material_preprocessed.csv')"
   ]
  },
  {
   "cell_type": "code",
   "execution_count": 3,
   "metadata": {},
   "outputs": [],
   "source": [
    "df = df[df['FECHAPEDIDO'].str.contains('2023')]\n",
    "df = df.reset_index(drop=True)\n",
    "\n",
    "CODIGO_PROD = 65056\n",
    "data = df[df['CODIGO_NUM'] == CODIGO_PROD]\n",
    "data.reset_index(drop=True, inplace=True)"
   ]
  },
  {
   "cell_type": "code",
   "execution_count": 4,
   "metadata": {},
   "outputs": [],
   "source": [
    "model = OptimizationModel(data, 1, 5, 1e5, 5)"
   ]
  },
  {
   "cell_type": "code",
   "execution_count": 6,
   "metadata": {},
   "outputs": [
    {
     "name": "stdout",
     "output_type": "stream",
     "text": [
      "WARNING: Failed to create solver with name '_glpk_shell': Failed to set\n",
      "executable for solver glpk. File with\n",
      "name=/opt/homebrew/Cellar/glpk/5.0/bin/glpsole either does not exist or it is\n",
      "not executable. To skip this validation, call set_executable with\n",
      "validate=False.\n",
      "Traceback (most recent call last):\n",
      "  File \"/Library/Frameworks/Python.framework/Versions/3.11/lib/python3.11/site-packages/pyomo/opt/base/solvers.py\", line 151, in __call__\n",
      "    opt = self._cls[_name](**kwds)\n",
      "          ^^^^^^^^^^^^^^^^^^^^^^^^\n",
      "  File \"/Library/Frameworks/Python.framework/Versions/3.11/lib/python3.11/site-packages/pyomo/solvers/plugins/solvers/GLPK.py\", line 91, in __init__\n",
      "    SystemCallSolver.__init__(self, **kwargs)\n",
      "  File \"/Library/Frameworks/Python.framework/Versions/3.11/lib/python3.11/site-packages/pyomo/opt/solver/shellcmd.py\", line 67, in __init__\n",
      "    self.set_executable(name=executable, validate=validate)\n",
      "  File \"/Library/Frameworks/Python.framework/Versions/3.11/lib/python3.11/site-packages/pyomo/opt/solver/shellcmd.py\", line 116, in set_executable\n",
      "    raise ValueError(\n",
      "ValueError: Failed to set executable for solver glpk. File with name=/opt/homebrew/Cellar/glpk/5.0/bin/glpsole either does not exist or it is not executable. To skip this validation, call set_executable with validate=False.\n"
     ]
    },
    {
     "ename": "ApplicationError",
     "evalue": "Solver (_glpk_shell) not available",
     "output_type": "error",
     "traceback": [
      "\u001b[0;31m---------------------------------------------------------------------------\u001b[0m",
      "\u001b[0;31mApplicationError\u001b[0m                          Traceback (most recent call last)",
      "Cell \u001b[0;32mIn[6], line 3\u001b[0m\n\u001b[1;32m      1\u001b[0m solver_path \u001b[39m=\u001b[39m \u001b[39m'\u001b[39m\u001b[39m/opt/homebrew/Cellar/glpk/5.0/bin/glpsole\u001b[39m\u001b[39m'\u001b[39m\n\u001b[1;32m      2\u001b[0m \u001b[39m# Check if path in solver_path is executable\u001b[39;00m\n\u001b[0;32m----> 3\u001b[0m \u001b[39mif\u001b[39;00m \u001b[39mnot\u001b[39;00m pyo\u001b[39m.\u001b[39;49mSolverFactory(\u001b[39m'\u001b[39;49m\u001b[39mglpk\u001b[39;49m\u001b[39m'\u001b[39;49m, executable\u001b[39m=\u001b[39;49msolver_path)\u001b[39m.\u001b[39;49mavailable():\n\u001b[1;32m      4\u001b[0m     \u001b[39mraise\u001b[39;00m \u001b[39mException\u001b[39;00m(\u001b[39m'\u001b[39m\u001b[39mGLPK executable not found. Please install GLPK.\u001b[39m\u001b[39m'\u001b[39m)\n\u001b[1;32m      5\u001b[0m opt \u001b[39m=\u001b[39m pyo\u001b[39m.\u001b[39mSolverFactory(\u001b[39m'\u001b[39m\u001b[39mglpk\u001b[39m\u001b[39m'\u001b[39m, executable\u001b[39m=\u001b[39msolver_path)\n",
      "File \u001b[0;32m/Library/Frameworks/Python.framework/Versions/3.11/lib/python3.11/site-packages/pyomo/opt/base/solvers.py:89\u001b[0m, in \u001b[0;36mUnknownSolver.available\u001b[0;34m(self, exception_flag)\u001b[0m\n\u001b[1;32m     87\u001b[0m \u001b[39m\u001b[39m\u001b[39m\"\"\"Determine if this optimizer is available.\"\"\"\u001b[39;00m\n\u001b[1;32m     88\u001b[0m \u001b[39mif\u001b[39;00m exception_flag:\n\u001b[0;32m---> 89\u001b[0m     \u001b[39mraise\u001b[39;00m ApplicationError(\u001b[39m\"\u001b[39m\u001b[39mSolver (\u001b[39m\u001b[39m%s\u001b[39;00m\u001b[39m) not available\u001b[39m\u001b[39m\"\u001b[39m \u001b[39m%\u001b[39m \u001b[39mstr\u001b[39m(\u001b[39mself\u001b[39m\u001b[39m.\u001b[39mname))\n\u001b[1;32m     90\u001b[0m \u001b[39mreturn\u001b[39;00m \u001b[39mFalse\u001b[39;00m\n",
      "\u001b[0;31mApplicationError\u001b[0m: Solver (_glpk_shell) not available"
     ]
    }
   ],
   "source": [
    "solver_path = '/opt/homebrew/Cellar/glpk/5.0/bin/glpsole'\n",
    "opt = pyo.SolverFactory('glpk', executable=solver_path)\n",
    "results = opt.solve(model)\n",
    "print(f'Feasible: {results.solver.termination_condition == pyo.TerminationCondition.optimal}')\n",
    "optimal_values = [pyo.value(model.p[i]) for i in model.p]\n",
    "print(f'Optimal values: {optimal_values}')"
   ]
  },
  {
   "cell_type": "code",
   "execution_count": null,
   "metadata": {},
   "outputs": [
    {
     "name": "stdout",
     "output_type": "stream",
     "text": [
      "924.0\n"
     ]
    }
   ],
   "source": [
    "import math\n",
    "# print 12 choose 6\n",
    "print(math.factorial(12)/(math.factorial(6)*math.factorial(12-6)))"
   ]
  }
 ],
 "metadata": {
  "kernelspec": {
   "display_name": "Python 3",
   "language": "python",
   "name": "python3"
  },
  "language_info": {
   "codemirror_mode": {
    "name": "ipython",
    "version": 3
   },
   "file_extension": ".py",
   "mimetype": "text/x-python",
   "name": "python",
   "nbconvert_exporter": "python",
   "pygments_lexer": "ipython3",
   "version": "3.11.2"
  },
  "vscode": {
   "interpreter": {
    "hash": "aee8b7b246df8f9039afb4144a1f6fd8d2ca17a180786b69acc140d282b71a49"
   }
  }
 },
 "nbformat": 4,
 "nbformat_minor": 2
}
